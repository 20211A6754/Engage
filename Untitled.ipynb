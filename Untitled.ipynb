{
 "cells": [
  {
   "cell_type": "code",
   "execution_count": 26,
   "id": "ff387085",
   "metadata": {},
   "outputs": [],
   "source": [
    "import pandas as pd\n",
    "import matplotlib.pyplot as plt\n",
    "import seaborn as sns\n",
    "from sklearn.model_selection import train_test_split\n",
    "from sklearn.linear_model import LinearRegression\n",
    "from sklearn.linear_model import Lasso\n",
    "from sklearn import metrics\n",
    "from sklearn.preprocessing import LabelEncoder"
   ]
  },
  {
   "cell_type": "code",
   "execution_count": 27,
   "id": "4ee228af",
   "metadata": {},
   "outputs": [],
   "source": [
    "car_dataset = pd.read_csv('car data.csv')"
   ]
  },
  {
   "cell_type": "code",
   "execution_count": 28,
   "id": "2274aab9",
   "metadata": {},
   "outputs": [
    {
     "data": {
      "text/html": [
       "<div>\n",
       "<style scoped>\n",
       "    .dataframe tbody tr th:only-of-type {\n",
       "        vertical-align: middle;\n",
       "    }\n",
       "\n",
       "    .dataframe tbody tr th {\n",
       "        vertical-align: top;\n",
       "    }\n",
       "\n",
       "    .dataframe thead th {\n",
       "        text-align: right;\n",
       "    }\n",
       "</style>\n",
       "<table border=\"1\" class=\"dataframe\">\n",
       "  <thead>\n",
       "    <tr style=\"text-align: right;\">\n",
       "      <th></th>\n",
       "      <th>Car_Name</th>\n",
       "      <th>Year</th>\n",
       "      <th>Selling_Price</th>\n",
       "      <th>Present_Price</th>\n",
       "      <th>Kms_Driven</th>\n",
       "      <th>Fuel_Type</th>\n",
       "      <th>Seller_Type</th>\n",
       "      <th>Transmission</th>\n",
       "      <th>Owner</th>\n",
       "    </tr>\n",
       "  </thead>\n",
       "  <tbody>\n",
       "    <tr>\n",
       "      <th>0</th>\n",
       "      <td>ritz</td>\n",
       "      <td>2014</td>\n",
       "      <td>3.35</td>\n",
       "      <td>5.59</td>\n",
       "      <td>27000</td>\n",
       "      <td>Petrol</td>\n",
       "      <td>Dealer</td>\n",
       "      <td>Manual</td>\n",
       "      <td>0</td>\n",
       "    </tr>\n",
       "    <tr>\n",
       "      <th>1</th>\n",
       "      <td>sx4</td>\n",
       "      <td>2013</td>\n",
       "      <td>4.75</td>\n",
       "      <td>9.54</td>\n",
       "      <td>43000</td>\n",
       "      <td>Diesel</td>\n",
       "      <td>Dealer</td>\n",
       "      <td>Manual</td>\n",
       "      <td>0</td>\n",
       "    </tr>\n",
       "    <tr>\n",
       "      <th>2</th>\n",
       "      <td>ciaz</td>\n",
       "      <td>2017</td>\n",
       "      <td>7.25</td>\n",
       "      <td>9.85</td>\n",
       "      <td>6900</td>\n",
       "      <td>Petrol</td>\n",
       "      <td>Dealer</td>\n",
       "      <td>Manual</td>\n",
       "      <td>0</td>\n",
       "    </tr>\n",
       "    <tr>\n",
       "      <th>3</th>\n",
       "      <td>wagon r</td>\n",
       "      <td>2011</td>\n",
       "      <td>2.85</td>\n",
       "      <td>4.15</td>\n",
       "      <td>5200</td>\n",
       "      <td>Petrol</td>\n",
       "      <td>Dealer</td>\n",
       "      <td>Manual</td>\n",
       "      <td>0</td>\n",
       "    </tr>\n",
       "    <tr>\n",
       "      <th>4</th>\n",
       "      <td>swift</td>\n",
       "      <td>2014</td>\n",
       "      <td>4.60</td>\n",
       "      <td>6.87</td>\n",
       "      <td>42450</td>\n",
       "      <td>Diesel</td>\n",
       "      <td>Dealer</td>\n",
       "      <td>Manual</td>\n",
       "      <td>0</td>\n",
       "    </tr>\n",
       "  </tbody>\n",
       "</table>\n",
       "</div>"
      ],
      "text/plain": [
       "  Car_Name  Year  Selling_Price  Present_Price  Kms_Driven Fuel_Type  \\\n",
       "0     ritz  2014           3.35           5.59       27000    Petrol   \n",
       "1      sx4  2013           4.75           9.54       43000    Diesel   \n",
       "2     ciaz  2017           7.25           9.85        6900    Petrol   \n",
       "3  wagon r  2011           2.85           4.15        5200    Petrol   \n",
       "4    swift  2014           4.60           6.87       42450    Diesel   \n",
       "\n",
       "  Seller_Type Transmission  Owner  \n",
       "0      Dealer       Manual      0  \n",
       "1      Dealer       Manual      0  \n",
       "2      Dealer       Manual      0  \n",
       "3      Dealer       Manual      0  \n",
       "4      Dealer       Manual      0  "
      ]
     },
     "execution_count": 28,
     "metadata": {},
     "output_type": "execute_result"
    }
   ],
   "source": [
    "car_dataset.head()"
   ]
  },
  {
   "cell_type": "code",
   "execution_count": 29,
   "id": "82f4ab20",
   "metadata": {},
   "outputs": [
    {
     "data": {
      "text/plain": [
       "(301, 9)"
      ]
     },
     "execution_count": 29,
     "metadata": {},
     "output_type": "execute_result"
    }
   ],
   "source": [
    "car_dataset.shape"
   ]
  },
  {
   "cell_type": "code",
   "execution_count": 30,
   "id": "2c8e7366",
   "metadata": {},
   "outputs": [
    {
     "name": "stdout",
     "output_type": "stream",
     "text": [
      "<class 'pandas.core.frame.DataFrame'>\n",
      "RangeIndex: 301 entries, 0 to 300\n",
      "Data columns (total 9 columns):\n",
      " #   Column         Non-Null Count  Dtype  \n",
      "---  ------         --------------  -----  \n",
      " 0   Car_Name       301 non-null    object \n",
      " 1   Year           301 non-null    int64  \n",
      " 2   Selling_Price  301 non-null    float64\n",
      " 3   Present_Price  301 non-null    float64\n",
      " 4   Kms_Driven     301 non-null    int64  \n",
      " 5   Fuel_Type      301 non-null    object \n",
      " 6   Seller_Type    301 non-null    object \n",
      " 7   Transmission   301 non-null    object \n",
      " 8   Owner          301 non-null    int64  \n",
      "dtypes: float64(2), int64(3), object(4)\n",
      "memory usage: 21.3+ KB\n"
     ]
    }
   ],
   "source": [
    "car_dataset.info()"
   ]
  },
  {
   "cell_type": "code",
   "execution_count": 31,
   "id": "931afef1",
   "metadata": {},
   "outputs": [
    {
     "data": {
      "text/plain": [
       "Car_Name         0\n",
       "Year             0\n",
       "Selling_Price    0\n",
       "Present_Price    0\n",
       "Kms_Driven       0\n",
       "Fuel_Type        0\n",
       "Seller_Type      0\n",
       "Transmission     0\n",
       "Owner            0\n",
       "dtype: int64"
      ]
     },
     "execution_count": 31,
     "metadata": {},
     "output_type": "execute_result"
    }
   ],
   "source": [
    "car_dataset.isnull().sum()"
   ]
  },
  {
   "cell_type": "code",
   "execution_count": 32,
   "id": "e4a9a2f8",
   "metadata": {},
   "outputs": [
    {
     "name": "stdout",
     "output_type": "stream",
     "text": [
      "Petrol    239\n",
      "Diesel     60\n",
      "CNG         2\n",
      "Name: Fuel_Type, dtype: int64\n",
      "Dealer        195\n",
      "Individual    106\n",
      "Name: Seller_Type, dtype: int64\n",
      "Manual       261\n",
      "Automatic     40\n",
      "Name: Transmission, dtype: int64\n"
     ]
    }
   ],
   "source": [
    "print(car_dataset.Fuel_Type.value_counts())\n",
    "print(car_dataset.Seller_Type.value_counts())\n",
    "print(car_dataset.Transmission.value_counts())"
   ]
  },
  {
   "cell_type": "code",
   "execution_count": 33,
   "id": "ed5f1b5b",
   "metadata": {},
   "outputs": [],
   "source": [
    "le_car = LabelEncoder()\n",
    "\n",
    "# encoding \"Fuel_Type\" Column\n",
    "car_dataset.replace({'Fuel_Type':{'Petrol':0,'Diesel':1,'CNG':2}},inplace=True)\n",
    "\n",
    "# encoding \"Seller_Type\" Column\n",
    "car_dataset.replace({'Seller_Type':{'Dealer':0,'Individual':1}},inplace=True)\n",
    "\n",
    "# encoding \"Transmission\" Column\n",
    "car_dataset.replace({'Transmission':{'Manual':0,'Automatic':1}},inplace=True)"
   ]
  },
  {
   "cell_type": "code",
   "execution_count": 58,
   "id": "a4f5c21d",
   "metadata": {},
   "outputs": [],
   "source": [
    "X = car_dataset.drop(['Selling_Price','Owner','Car_Name'],axis=1)\n",
    "X[\"Present_Price\"] *= 100000\n",
    "Y = car_dataset['Selling_Price']"
   ]
  },
  {
   "cell_type": "code",
   "execution_count": 59,
   "id": "262b290e",
   "metadata": {},
   "outputs": [
    {
     "name": "stdout",
     "output_type": "stream",
     "text": [
      "     Year  Present_Price  Kms_Driven  Fuel_Type  Seller_Type  Transmission\n",
      "0    2014       559000.0       27000          0            0             0\n",
      "1    2013       954000.0       43000          1            0             0\n",
      "2    2017       985000.0        6900          0            0             0\n",
      "3    2011       415000.0        5200          0            0             0\n",
      "4    2014       687000.0       42450          1            0             0\n",
      "..    ...            ...         ...        ...          ...           ...\n",
      "296  2016      1160000.0       33988          1            0             0\n",
      "297  2015       590000.0       60000          0            0             0\n",
      "298  2009      1100000.0       87934          0            0             0\n",
      "299  2017      1250000.0        9000          1            0             0\n",
      "300  2016       590000.0        5464          0            0             0\n",
      "\n",
      "[301 rows x 6 columns]\n"
     ]
    }
   ],
   "source": [
    "print(X)"
   ]
  },
  {
   "cell_type": "code",
   "execution_count": 60,
   "id": "b322616b",
   "metadata": {},
   "outputs": [
    {
     "name": "stdout",
     "output_type": "stream",
     "text": [
      "0       3.35\n",
      "1       4.75\n",
      "2       7.25\n",
      "3       2.85\n",
      "4       4.60\n",
      "       ...  \n",
      "296     9.50\n",
      "297     4.00\n",
      "298     3.35\n",
      "299    11.50\n",
      "300     5.30\n",
      "Name: Selling_Price, Length: 301, dtype: float64\n"
     ]
    }
   ],
   "source": [
    "print(Y)"
   ]
  },
  {
   "cell_type": "code",
   "execution_count": 61,
   "id": "b0332016",
   "metadata": {},
   "outputs": [],
   "source": [
    "X_train, X_test, Y_train, Y_test = train_test_split(X, Y, test_size = 0.1, random_state=2)"
   ]
  },
  {
   "cell_type": "code",
   "execution_count": 62,
   "id": "2a543346",
   "metadata": {},
   "outputs": [],
   "source": [
    "lin_reg_model = LinearRegression()"
   ]
  },
  {
   "cell_type": "code",
   "execution_count": 63,
   "id": "6d6ae552",
   "metadata": {},
   "outputs": [
    {
     "data": {
      "text/plain": [
       "LinearRegression()"
      ]
     },
     "execution_count": 63,
     "metadata": {},
     "output_type": "execute_result"
    }
   ],
   "source": [
    "lin_reg_model.fit(X_train,Y_train)"
   ]
  },
  {
   "cell_type": "code",
   "execution_count": 64,
   "id": "73248ebe",
   "metadata": {},
   "outputs": [],
   "source": [
    "# prediction on Training data\n",
    "training_data_prediction = lin_reg_model.predict(X_train)"
   ]
  },
  {
   "cell_type": "code",
   "execution_count": 65,
   "id": "ca1c069e",
   "metadata": {},
   "outputs": [
    {
     "name": "stdout",
     "output_type": "stream",
     "text": [
      "R squared Error :  0.8782047343662118\n"
     ]
    }
   ],
   "source": [
    "# R squared Error\n",
    "error_score = metrics.r2_score(Y_train, training_data_prediction)\n",
    "print(\"R squared Error : \", error_score)"
   ]
  },
  {
   "cell_type": "code",
   "execution_count": 66,
   "id": "9f3b12e0",
   "metadata": {},
   "outputs": [
    {
     "data": {
      "image/png": "[encoded data removed]",
      "text/plain": [
       "<Figure size 432x288 with 1 Axes>"
      ]
     },
     "metadata": {
      "needs_background": "light"
     },
     "output_type": "display_data"
    }
   ],
   "source": [
    "plt.scatter(Y_train, training_data_prediction)\n",
    "plt.xlabel(\"Actual Price\")\n",
    "plt.ylabel(\"Predicted Price\")\n",
    "plt.title(\" Actual Prices vs Predicted Prices\")\n",
    "plt.show()"
   ]
  },
  {
   "cell_type": "code",
   "execution_count": 67,
   "id": "0f1f1b19",
   "metadata": {},
   "outputs": [],
   "source": [
    "test_data_prediction = lin_reg_model.predict(X_test)"
   ]
  },
  {
   "cell_type": "code",
   "execution_count": 68,
   "id": "dcf5ffb7",
   "metadata": {},
   "outputs": [
    {
     "name": "stdout",
     "output_type": "stream",
     "text": [
      "R squared Error :  0.8498617573093097\n"
     ]
    }
   ],
   "source": [
    "# R squared Error\n",
    "error_score = metrics.r2_score(Y_test, test_data_prediction)\n",
    "print(\"R squared Error : \", error_score)"
   ]
  },
  {
   "cell_type": "code",
   "execution_count": 69,
   "id": "0faf4ed4",
   "metadata": {},
   "outputs": [
    {
     "data": {
      "image/png": "[encoded data removed]",
      "text/plain": [
       "<Figure size 432x288 with 1 Axes>"
      ]
     },
     "metadata": {
      "needs_background": "light"
     },
     "output_type": "display_data"
    }
   ],
   "source": [
    "plt.scatter(Y_test, test_data_prediction)\n",
    "plt.xlabel(\"Actual Price\")\n",
    "plt.ylabel(\"Predicted Price\")\n",
    "plt.title(\" Actual Prices vs Predicted Prices\")\n",
    "plt.show()"
   ]
  },
  {
   "cell_type": "code",
   "execution_count": 70,
   "id": "f66a80ef",
   "metadata": {},
   "outputs": [],
   "source": [
    "lass_reg_model = Lasso()"
   ]
  },
  {
   "cell_type": "code",
   "execution_count": 71,
   "id": "9004e199",
   "metadata": {},
   "outputs": [
    {
     "data": {
      "text/plain": [
       "Lasso()"
      ]
     },
     "execution_count": 71,
     "metadata": {},
     "output_type": "execute_result"
    }
   ],
   "source": [
    "lass_reg_model.fit(X_train,Y_train)"
   ]
  },
  {
   "cell_type": "code",
   "execution_count": 72,
   "id": "e51a218f",
   "metadata": {},
   "outputs": [
    {
     "name": "stdout",
     "output_type": "stream",
     "text": [
      "R squared Error :  0.8782047343662118\n"
     ]
    }
   ],
   "source": [
    "# R squared Error\n",
    "error_score = metrics.r2_score(Y_train, training_data_prediction)\n",
    "print(\"R squared Error : \", error_score)"
   ]
  },
  {
   "cell_type": "code",
   "execution_count": 49,
   "id": "616ac858",
   "metadata": {},
   "outputs": [
    {
     "data": {
      "image/png": "[encoded data removed]",
      "text/plain": [
       "<Figure size 432x288 with 1 Axes>"
      ]
     },
     "metadata": {
      "needs_background": "light"
     },
     "output_type": "display_data"
    }
   ],
   "source": [
    "plt.scatter(Y_train, training_data_prediction)\n",
    "plt.xlabel(\"Actual Price\")\n",
    "plt.ylabel(\"Predicted Price\")\n",
    "plt.title(\" Actual Prices vs Predicted Prices\")\n",
    "plt.show()"
   ]
  },
  {
   "cell_type": "code",
   "execution_count": 73,
   "id": "928146aa",
   "metadata": {},
   "outputs": [],
   "source": [
    "test_data_prediction = lass_reg_model.predict(X_test)"
   ]
  },
  {
   "cell_type": "code",
   "execution_count": 74,
   "id": "5583935b",
   "metadata": {},
   "outputs": [
    {
     "name": "stdout",
     "output_type": "stream",
     "text": [
      "R squared Error :  0.8791285691096351\n"
     ]
    }
   ],
   "source": [
    "# R squared Error\n",
    "error_score = metrics.r2_score(Y_test, test_data_prediction)\n",
    "print(\"R squared Error : \", error_score)"
   ]
  },
  {
   "cell_type": "code",
   "execution_count": 75,
   "id": "eb6ed50e",
   "metadata": {},
   "outputs": [
    {
     "data": {
      "image/png": "[encoded data removed]",
      "text/plain": [
       "<Figure size 432x288 with 1 Axes>"
      ]
     },
     "metadata": {
      "needs_background": "light"
     },
     "output_type": "display_data"
    }
   ],
   "source": [
    "plt.scatter(Y_test, test_data_prediction)\n",
    "plt.xlabel(\"Actual Price\")\n",
    "plt.ylabel(\"Predicted Price\")\n",
    "plt.title(\" Actual Prices vs Predicted Prices\")\n",
    "plt.show()"
   ]
  },
  {
   "cell_type": "code",
   "execution_count": 53,
   "id": "353808c6",
   "metadata": {},
   "outputs": [],
   "source": [
    "import pickle"
   ]
  },
  {
   "cell_type": "code",
   "execution_count": 76,
   "id": "9a57f058",
   "metadata": {},
   "outputs": [],
   "source": [
    "data = {\"model\": lin_reg_model, \"year\": X['Year'], \"km\":X['Kms_Driven'], \"fuel\": X['Fuel_Type'], \"seller\": X['Seller_Type'], \"transmission\": X['Transmission'], \"present\": X[\"Present_Price\"] }\n",
    "with open('saved.pkl', 'wb') as file:\n",
    "    pickle.dump(data, file)"
   ]
  },
  {
   "cell_type": "code",
   "execution_count": 77,
   "id": "a40e4bbd",
   "metadata": {},
   "outputs": [],
   "source": [
    "with open('saved.pkl', 'rb') as file:\n",
    "    data = pickle.load(file)\n",
    "le_regressor = data['model']\n",
    "le_year = data['year']\n",
    "le_km = data['km']\n",
    "le_fuel = data['fuel']\n",
    "le_seller = data['seller']\n",
    "le_transmission = data['transmission']"
   ]
  },
  {
   "cell_type": "code",
   "execution_count": 78,
   "id": "86ed26ef",
   "metadata": {
    "scrolled": true
   },
   "outputs": [
    {
     "data": {
      "text/plain": [
       "array([ 3.83221387e+00,  6.80993931e+00,  7.08850815e+00,  2.09040833e+00,\n",
       "        6.06747761e+00,  9.31284278e+00,  5.41260973e+00,  7.30834045e+00,\n",
       "        7.93942980e+00,  7.38341241e+00,  4.39086451e+00,  7.96282699e+00,\n",
       "        7.71255033e+00,  5.18491170e+00,  2.09943266e+00,  8.61589624e+00,\n",
       "        8.20482031e+00,  8.61589624e+00,  7.53741478e+00,  3.09862131e+00,\n",
       "        3.96940931e+00,  5.31065796e+00,  4.95336213e+00,  2.77851696e+00,\n",
       "        2.69516203e+00,  2.35740259e+00,  3.34459514e+00,  4.48857228e+00,\n",
       "        1.31752005e+00,  8.00332354e+00,  4.77808552e+00,  2.08289540e+00,\n",
       "        6.36155975e+00,  7.39551431e+00,  6.57002139e+00,  6.91700412e+00,\n",
       "        4.80849549e+00, -3.97804171e+00,  3.98713141e+00,  1.98759625e-02,\n",
       "        7.16415618e+00,  2.99601203e+00,  1.78434894e+00,  6.56475683e+00,\n",
       "        1.57035041e+00,  8.20976602e+00,  2.85315768e+00, -4.13200597e-01,\n",
       "        5.18578912e+00,  8.12016064e+00,  1.66555720e+01,  1.83523030e+01,\n",
       "        1.46264628e+01,  1.58014871e+01,  5.75260467e-01,  7.04886057e+00,\n",
       "        4.89463731e+00,  7.65313767e+00,  4.27643748e+00,  2.02622677e+01,\n",
       "        9.01119498e+00,  5.08208340e+00,  2.00125390e+01,  2.06417698e+01,\n",
       "        2.18764211e+01,  6.08520808e+00,  1.43492605e+01,  1.02070995e+01,\n",
       "        5.72016823e+00,  1.14647497e+01,  5.82673698e+00,  7.24054323e+00,\n",
       "        8.90320419e+00,  2.51663932e+00,  6.69353206e+00,  4.71995789e+00,\n",
       "        7.07871898e+00,  3.33420731e+00,  1.08037935e+01,  1.67615852e+01,\n",
       "        1.05416366e+01,  6.93204574e+00,  1.70811031e+01,  9.39581724e+00,\n",
       "        4.12148417e+00,  8.02880315e+00,  4.15917253e+01,  6.35614848e+00,\n",
       "        3.47814033e+00,  4.25549078e+00,  7.18271972e+00,  9.98789852e+00,\n",
       "        3.27044800e+00,  1.83523030e+01,  9.88121292e+00,  8.37522148e+00,\n",
       "        1.65666125e+01,  1.09155564e+01,  8.97745460e+00,  1.02676823e+01,\n",
       "        2.15289748e+00,  2.54875373e+00,  2.51373447e+00,  2.45401449e+00,\n",
       "        2.37766122e+00,  1.81196588e+00,  1.89877447e+00,  6.37200885e-01,\n",
       "        1.87694861e+00,  2.33109019e+00,  2.08023696e+00,  1.93971826e+00,\n",
       "        1.50428682e+00,  1.71853152e+00,  1.45059631e+00,  1.44722160e+00,\n",
       "        5.02608182e-01,  1.65865514e+00,  1.38985149e+00,  8.76702857e-01,\n",
       "        1.85514204e+00, -1.48126113e-01,  1.81380802e+00,  4.11490951e-01,\n",
       "        3.50017389e-01, -1.10233721e+00,  2.16943986e+00,  1.64545416e+00,\n",
       "        2.12302434e+00,  2.09642243e+00,  2.06902894e+00,  1.15994720e+00,\n",
       "        2.15459113e+00,  1.75484073e+00,  2.03742328e+00,  1.21274822e+00,\n",
       "        8.68798821e-01,  3.19035346e-01,  1.62203258e+00,  1.22617633e+00,\n",
       "        3.91430045e-01,  1.55771164e+00,  1.09443891e+00,  1.54143527e+00,\n",
       "        7.66953248e-01, -1.11165914e-01,  7.45783438e-01,  8.98705596e-01,\n",
       "       -1.06986835e+00,  1.59186157e+00, -4.36433764e-01,  1.37427579e+00,\n",
       "        7.94900640e-03,  2.11966091e-01,  8.33648902e-01,  3.43641401e+00,\n",
       "        1.88916219e+00,  1.13493545e+00,  1.94109388e+00,  3.43843883e+00,\n",
       "       -5.03764080e-01,  7.08822023e-01, -2.17513033e-03, -9.44011022e-01,\n",
       "        1.48464832e+00,  3.05516621e+00,  1.57675852e+00,  5.73594658e-01,\n",
       "        3.21137225e-01,  1.06464965e+00, -1.13133090e-02,  1.11828814e+00,\n",
       "        6.90352684e-01,  3.45666228e+00,  9.77232182e-01, -9.19178034e-01,\n",
       "       -5.00583753e-01,  2.90965780e+00,  2.08156915e+00, -2.15572710e+00,\n",
       "       -5.18922941e-01,  1.21546291e+00,  1.34132273e-01,  1.46832531e-01,\n",
       "       -1.86461268e+00, -2.96801572e-01,  3.81326206e-01,  9.00596118e-02,\n",
       "        2.10757679e-01, -3.39896037e+00, -2.09409311e+00, -2.56486960e-01,\n",
       "       -2.43984811e+00,  2.05202632e-01, -2.01043843e+00,  8.26822612e-01,\n",
       "       -3.68489603e+00, -1.17668582e+00, -7.43979872e-01, -2.54109650e+00,\n",
       "       -3.15164465e+00,  4.24758789e+00,  4.29215779e+00,  1.96122703e+00,\n",
       "        3.73690803e+00,  4.87891448e+00,  5.86284213e+00,  5.72703250e+00,\n",
       "        6.34754960e+00,  6.12038833e+00,  2.50058927e+00,  9.93936161e+00,\n",
       "        8.19994710e+00,  3.06526601e+00,  5.18673097e+00,  4.59488568e+00,\n",
       "        4.26342611e+00,  4.24655255e+00,  5.37428668e+00,  4.59556062e+00,\n",
       "        4.50802074e+00,  5.38199123e+00,  6.14886054e+00,  7.46472785e+00,\n",
       "        6.49362357e+00,  2.17007448e+00,  4.31592926e+00,  1.86308339e+00,\n",
       "        6.21405280e+00,  5.12719085e+00,  6.73529284e+00,  6.83728513e+00,\n",
       "        9.84505253e+00,  5.06525309e+00,  4.45217314e+00,  6.83634021e+00,\n",
       "        4.26781999e+00,  9.25448213e+00,  4.85194649e+00,  2.50777714e+00,\n",
       "        6.40086337e+00,  4.86499600e+00,  4.45759176e+00,  5.68510487e+00,\n",
       "        6.70829514e+00,  6.13980913e+00,  3.46234363e+00,  5.85555663e+00,\n",
       "        2.95956587e+00,  5.61761062e+00,  9.89090785e+00,  5.09422383e+00,\n",
       "        6.23895905e+00,  7.35342760e+00,  5.11082066e+00,  2.70735113e+00,\n",
       "        8.01844833e+00,  7.66080084e+00,  7.76422902e+00,  4.38694851e+00,\n",
       "        8.15572487e+00,  4.98262101e+00,  4.25603622e+00,  5.66802342e+00,\n",
       "        4.78013846e+00,  6.48970733e+00,  4.39406240e+00,  8.16784462e+00,\n",
       "        5.23792670e+00,  6.23351899e+00,  4.21259064e+00,  3.37110168e+00,\n",
       "        6.17431304e+00,  2.75559693e+00,  4.43157300e+00,  9.62479892e+00,\n",
       "        7.76557891e+00,  7.78596217e+00,  6.05476814e+00,  7.24213856e+00,\n",
       "        4.47221488e+00,  1.19181520e+00,  9.04293808e+00,  7.50596725e+00,\n",
       "        3.66370361e+00,  7.50320379e+00,  5.67055715e+00,  6.45110128e+00,\n",
       "        7.70348420e+00,  8.27885462e+00,  4.23999194e+00,  4.44508489e+00,\n",
       "        6.00077274e+00,  3.96044881e+00,  4.32007926e+00,  9.08521251e+00,\n",
       "        9.03050474e+00,  4.16487984e+00,  3.68387000e+00,  1.00122499e+01,\n",
       "        4.95296512e+00])"
      ]
     },
     "execution_count": 78,
     "metadata": {},
     "output_type": "execute_result"
    }
   ],
   "source": [
    "yPred = le_regressor.predict(X)\n",
    "yPred"
   ]
  },
  {
   "cell_type": "code",
   "execution_count": null,
   "id": "836f027b",
   "metadata": {},
   "outputs": [],
   "source": [
    "print(car_dataset[\"Car_Name\"].unique())"
   ]
  }
 ],
 "metadata": {
  "kernelspec": {
   "display_name": "Python 3 (ipykernel)",
   "language": "python",
   "name": "python3"
  },
  "language_info": {
   "codemirror_mode": {
    "name": "ipython",
    "version": 3
   },
   "file_extension": ".py",
   "mimetype": "text/x-python",
   "name": "python",
   "nbconvert_exporter": "python",
   "pygments_lexer": "ipython3",
   "version": "3.9.7"
  }
 },
 "nbformat": 4,
 "nbformat_minor": 5
}
